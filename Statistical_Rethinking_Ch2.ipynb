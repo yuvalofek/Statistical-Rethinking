{
  "nbformat": 4,
  "nbformat_minor": 0,
  "metadata": {
    "colab": {
      "provenance": [],
      "authorship_tag": "ABX9TyODWN2/p302iBjW48Ayjxga",
      "include_colab_link": true
    },
    "kernelspec": {
      "name": "python3",
      "display_name": "Python 3"
    },
    "language_info": {
      "name": "python"
    }
  },
  "cells": [
    {
      "cell_type": "markdown",
      "metadata": {
        "id": "view-in-github",
        "colab_type": "text"
      },
      "source": [
        "<a href=\"https://colab.research.google.com/github/yuvalofek/Statistical-Rethinking/blob/main/Statistical_Rethinking_Ch2.ipynb\" target=\"_parent\"><img src=\"https://colab.research.google.com/assets/colab-badge.svg\" alt=\"Open In Colab\"/></a>"
      ]
    },
    {
      "cell_type": "code",
      "execution_count": null,
      "metadata": {
        "id": "07TQ3xTegNJJ"
      },
      "outputs": [],
      "source": [
        "import numpy as np\n",
        "import numpy.random as npr\n",
        "import scipy.stats as stats\n",
        "import matplotlib.pyplot as plt\n",
        "import pymc as pm\n",
        "import arviz as az"
      ]
    },
    {
      "cell_type": "markdown",
      "source": [
        "Credit to:\n",
        "https://github.com/pymc-devs/pymc-resources/blob/main/Rethinking_2/Chp_02.ipynb"
      ],
      "metadata": {
        "id": "Aqf04cjPlthn"
      }
    },
    {
      "cell_type": "markdown",
      "source": [
        "# From the Chapter"
      ],
      "metadata": {
        "id": "0iatBy-5h2um"
      }
    },
    {
      "cell_type": "code",
      "source": [
        "ways = np.array([0, 3, 8, 9, 0])\n",
        "ways/ways.sum()"
      ],
      "metadata": {
        "colab": {
          "base_uri": "https://localhost:8080/"
        },
        "id": "R-qtYO1qhu8z",
        "outputId": "30ee6932-a65c-4d32-e3d8-6f037aeb33fd"
      },
      "execution_count": null,
      "outputs": [
        {
          "output_type": "execute_result",
          "data": {
            "text/plain": [
              "array([0.  , 0.15, 0.4 , 0.45, 0.  ])"
            ]
          },
          "metadata": {},
          "execution_count": 3
        }
      ]
    },
    {
      "cell_type": "code",
      "source": [
        "stats.binom.pmf(6, n=9, p=0.5)"
      ],
      "metadata": {
        "colab": {
          "base_uri": "https://localhost:8080/"
        },
        "id": "z0auITligZo2",
        "outputId": "dcfa210e-935b-4456-a540-ad20eee10793"
      },
      "execution_count": null,
      "outputs": [
        {
          "output_type": "execute_result",
          "data": {
            "text/plain": [
              "0.16406250000000003"
            ]
          },
          "metadata": {},
          "execution_count": 4
        }
      ]
    },
    {
      "cell_type": "code",
      "source": [
        "n_trials = 1\n",
        "p = 0.67\n",
        "size = (15,)\n",
        "\n",
        "samples = npr.binomial(n_trials, p=p, size=size)\n",
        "print(f\"Samples: {samples}\")"
      ],
      "metadata": {
        "colab": {
          "base_uri": "https://localhost:8080/"
        },
        "id": "iXe2GTuNhlVP",
        "outputId": "dbd6dc5c-5f38-4452-c320-8b56a5e92113"
      },
      "execution_count": null,
      "outputs": [
        {
          "output_type": "stream",
          "name": "stdout",
          "text": [
            "Samples: [1 1 1 0 0 1 1 0 1 1 1 1 1 1 1]\n"
          ]
        }
      ]
    },
    {
      "cell_type": "markdown",
      "source": [
        "## 2.5\n"
      ],
      "metadata": {
        "id": "p-wY0WCmkWHi"
      }
    },
    {
      "cell_type": "code",
      "source": [
        "N_grid = 50\n",
        "grid = np.linspace(0,1, N_grid)\n",
        "prior = np.ones((N_grid))\n",
        "\n",
        "likelyhood = stats.binom.pmf(6, n=9, p=grid)\n",
        "posterior_unstd = likelyhood*prior\n",
        "posterior = posterior_unstd/posterior_unstd.sum()\n",
        "plt.plot(grid, posterior)"
      ],
      "metadata": {
        "colab": {
          "base_uri": "https://localhost:8080/",
          "height": 282
        },
        "id": "jtF2e5B8isO5",
        "outputId": "457691f5-5401-4d37-8c16-f1cfcbe480c7"
      },
      "execution_count": null,
      "outputs": [
        {
          "output_type": "execute_result",
          "data": {
            "text/plain": [
              "[<matplotlib.lines.Line2D at 0x7f4c989cef70>]"
            ]
          },
          "metadata": {},
          "execution_count": 6
        },
        {
          "output_type": "display_data",
          "data": {
            "text/plain": [
              "<Figure size 432x288 with 1 Axes>"
            ],
            "image/png": "[encoded data removed]"
          },
          "metadata": {
            "needs_background": "light"
          }
        }
      ]
    },
    {
      "cell_type": "code",
      "source": [
        "N_grid = 50\n",
        "grid = np.linspace(0,1, N_grid)\n",
        "prior = np.zeros((N_grid))\n",
        "prior[N_grid//2:] = 1\n",
        "\n",
        "likelyhood = stats.binom.pmf(6, n=9, p=grid)\n",
        "posterior_unstd = likelyhood*prior\n",
        "posterior = posterior_unstd/posterior_unstd.sum()\n",
        "plt.plot(grid, posterior)"
      ],
      "metadata": {
        "colab": {
          "base_uri": "https://localhost:8080/",
          "height": 285
        },
        "id": "rvAnUb4gjrv4",
        "outputId": "6b53579b-3f67-435e-d407-14ca77cc8e8e"
      },
      "execution_count": null,
      "outputs": [
        {
          "output_type": "execute_result",
          "data": {
            "text/plain": [
              "[<matplotlib.lines.Line2D at 0x7f4c984a4a60>]"
            ]
          },
          "metadata": {},
          "execution_count": 7
        },
        {
          "output_type": "display_data",
          "data": {
            "text/plain": [
              "<Figure size 432x288 with 1 Axes>"
            ],
            "image/png": "[encoded data removed]"
          },
          "metadata": {
            "needs_background": "light"
          }
        }
      ]
    },
    {
      "cell_type": "markdown",
      "source": [
        "## 2.6"
      ],
      "metadata": {
        "id": "D0K6fQYlkY2y"
      }
    },
    {
      "cell_type": "code",
      "source": [
        "data = np.repeat((0, 1), (3, 6))\n",
        "with pm.Model() as normal_approximation:\n",
        "    p = pm.Uniform(\"p\", 0, 1)  # uniform priors\n",
        "    w = pm.Binomial(\"w\", n=len(data), p=p, observed=data.sum())  # binomial likelihood\n",
        "    mean_q = pm.find_MAP()\n",
        "\n",
        "    p_value = normal_approximation.rvs_to_values[p]\n",
        "    p_value.tag.transform = None\n",
        "    p_value.name = p.name\n",
        "\n",
        "    std_q = ((1 / pm.find_hessian(mean_q, vars=[p])) ** 0.5)[0]\n"
      ],
      "metadata": {
        "colab": {
          "base_uri": "https://localhost:8080/",
          "height": 54
        },
        "id": "rODx8NC4j99e",
        "outputId": "b3464deb-d5ca-4b00-f71a-804ab14cdf12"
      },
      "execution_count": null,
      "outputs": [
        {
          "output_type": "display_data",
          "data": {
            "text/plain": [
              "<IPython.core.display.HTML object>"
            ],
            "text/html": [
              "\n",
              "<style>\n",
              "    /* Turns off some styling */\n",
              "    progress {\n",
              "        /* gets rid of default border in Firefox and Opera. */\n",
              "        border: none;\n",
              "        /* Needs to be in here for Safari polyfill so background images work as expected. */\n",
              "        background-size: auto;\n",
              "    }\n",
              "    progress:not([value]), progress:not([value])::-webkit-progress-bar {\n",
              "        background: repeating-linear-gradient(45deg, #7e7e7e, #7e7e7e 10px, #5c5c5c 10px, #5c5c5c 20px);\n",
              "    }\n",
              "    .progress-bar-interrupted, .progress-bar-interrupted::-webkit-progress-bar {\n",
              "        background: #F44336;\n",
              "    }\n",
              "</style>\n"
            ]
          },
          "metadata": {}
        },
        {
          "output_type": "display_data",
          "data": {
            "text/plain": [
              "<IPython.core.display.HTML object>"
            ],
            "text/html": [
              "\n",
              "    <div>\n",
              "      <progress value='6' class='' max='6' style='width:300px; height:20px; vertical-align: middle;'></progress>\n",
              "      100.00% [6/6 00:00&lt;00:00 logp = -1.8075, ||grad|| = 1.5]\n",
              "    </div>\n",
              "    "
            ]
          },
          "metadata": {}
        },
        {
          "output_type": "stream",
          "name": "stdout",
          "text": [
            "\n"
          ]
        }
      ]
    },
    {
      "cell_type": "code",
      "source": [
        "print(\"Mean, Standard deviation\\np {:.2}, {:.2}\".format(mean_q[\"p\"], std_q[0]))"
      ],
      "metadata": {
        "colab": {
          "base_uri": "https://localhost:8080/"
        },
        "id": "Q3tipiDgkvz_",
        "outputId": "dc422e39-4395-4e85-e753-e9550a29c095"
      },
      "execution_count": null,
      "outputs": [
        {
          "output_type": "stream",
          "name": "stdout",
          "text": [
            "Mean, Standard deviation\n",
            "p 0.67, 0.16\n"
          ]
        }
      ]
    },
    {
      "cell_type": "code",
      "source": [
        "# analytical calculation\n",
        "w, n = 6, 9\n",
        "x = np.linspace(0, 1, 100)\n",
        "plt.plot(x, stats.beta.pdf(x, w + 1, n - w + 1), label=\"True posterior\")\n",
        "\n",
        "# quadratic approximation\n",
        "plt.plot(x, stats.norm.pdf(x, mean_q[\"p\"], std_q), label=\"Quadratic approximation\")\n",
        "plt.legend(loc=0)\n",
        "\n",
        "plt.title(f\"n = {n}\")\n",
        "plt.xlabel(\"Proportion water\");"
      ],
      "metadata": {
        "colab": {
          "base_uri": "https://localhost:8080/",
          "height": 295
        },
        "id": "8X42UziAlWtg",
        "outputId": "9422d5a8-0059-4585-d2c6-90f8a597a501"
      },
      "execution_count": null,
      "outputs": [
        {
          "output_type": "display_data",
          "data": {
            "text/plain": [
              "<Figure size 432x288 with 1 Axes>"
            ],
            "image/png": "[encoded data removed]"
          },
          "metadata": {
            "needs_background": "light"
          }
        }
      ]
    },
    {
      "cell_type": "code",
      "source": [
        "n_samples = 1000\n",
        "W = 6 \n",
        "L = 3\n",
        "\n",
        "def MC(n_samples, W, L):\n",
        "  p = np.zeros(n_samples)\n",
        "  p[0] = 0.5\n",
        "  for i in range(1, n_samples):\n",
        "    p_new = stats.norm(p[i-1], 0.1).rvs(1)\n",
        "    if p_new < 0:\n",
        "      p_new = -p_new\n",
        "    if p_new > 1:\n",
        "      p_new = 2 - p_new\n",
        "    q0 = stats.binom.pmf(W, n=W+L, p=p[i-1])\n",
        "    q1 = stats.binom.pmf(W, n=W+L, p=p_new)\n",
        "    if stats.uniform.rvs(0, 1) < q1 / q0:\n",
        "      p[i] = p_new\n",
        "    else:\n",
        "      p[i] = p[i-1]\n",
        "  return p"
      ],
      "metadata": {
        "id": "8ULVwzZ5lrK6"
      },
      "execution_count": null,
      "outputs": []
    },
    {
      "cell_type": "code",
      "source": [
        "p = MC(n_samples, 6, 3)\n",
        "az.plot_kde(p, label=\"Metropolis approximation\")\n",
        "x = np.linspace(0, 1, 100)\n",
        "plt.plot(x, stats.beta.pdf(x, W + 1, L + 1), \"C1\", label=\"True posterior\")\n",
        "plt.legend();\n",
        "\n"
      ],
      "metadata": {
        "colab": {
          "base_uri": "https://localhost:8080/",
          "height": 269
        },
        "id": "PZj0eJWcnlux",
        "outputId": "f51a71e2-6740-485d-e04a-c132a9648d98"
      },
      "execution_count": null,
      "outputs": [
        {
          "output_type": "display_data",
          "data": {
            "text/plain": [
              "<Figure size 432x288 with 1 Axes>"
            ],
            "image/png": "[encoded data removed]"
          },
          "metadata": {
            "needs_background": "light"
          }
        }
      ]
    },
    {
      "cell_type": "markdown",
      "source": [
        "# Questions"
      ],
      "metadata": {
        "id": "QAd7lkoJQPRT"
      }
    },
    {
      "cell_type": "markdown",
      "source": [
        "## 2M1\n",
        "Recall the globe tossing model from the chapter. Compute and plot the grid approximate\n",
        "posterior distribution for each of the following sets of observations. In each case, assume a uniform\n",
        "prior for p.\n",
        "1.  W, W, W\n",
        "2.  W, W, W, L\n",
        "3.  L, W, W, L, W, W, W"
      ],
      "metadata": {
        "id": "UMZUvCiWQSCI"
      }
    },
    {
      "cell_type": "code",
      "source": [
        "n_grid = 200\n",
        "n_land = 0\n",
        "n_total = 3\n",
        "\n",
        "def grid(n_land, n_total, n_grid=200):\n",
        "  p_grid = np.linspace(0, 1, n_grid)\n",
        "  prior = np.ones(n_grid)\n",
        "\n",
        "  likelyhood = stats.binom.pmf(n_land, n_total, p_grid)\n",
        "  posterior_unstd = likelyhood*prior\n",
        "  posterior = posterior_unstd/posterior_unstd.sum()\n",
        "\n",
        "  return p_grid, posterior"
      ],
      "metadata": {
        "id": "-cDH6HFoNhX5"
      },
      "execution_count": null,
      "outputs": []
    },
    {
      "cell_type": "code",
      "source": [
        "plt.plot(*grid(0,3))\n",
        "plt.show()"
      ],
      "metadata": {
        "colab": {
          "base_uri": "https://localhost:8080/",
          "height": 265
        },
        "id": "v_f_XjCUP_JR",
        "outputId": "378f79bb-d6f1-4206-c288-706b2fdec7cc"
      },
      "execution_count": null,
      "outputs": [
        {
          "output_type": "display_data",
          "data": {
            "text/plain": [
              "<Figure size 432x288 with 1 Axes>"
            ],
            "image/png": "[encoded data removed]"
          },
          "metadata": {
            "needs_background": "light"
          }
        }
      ]
    },
    {
      "cell_type": "code",
      "source": [
        "plt.plot(*grid(1,4))\n",
        "plt.show()"
      ],
      "metadata": {
        "colab": {
          "base_uri": "https://localhost:8080/",
          "height": 265
        },
        "id": "EgAqyIAhQCbu",
        "outputId": "27703174-f743-4eaf-8ab8-b6c772ff3e81"
      },
      "execution_count": null,
      "outputs": [
        {
          "output_type": "display_data",
          "data": {
            "text/plain": [
              "<Figure size 432x288 with 1 Axes>"
            ],
            "image/png": "[encoded data removed]"
          },
          "metadata": {
            "needs_background": "light"
          }
        }
      ]
    },
    {
      "cell_type": "code",
      "source": [
        "plt.plot(*grid(2,7))\n",
        "plt.show()"
      ],
      "metadata": {
        "colab": {
          "base_uri": "https://localhost:8080/",
          "height": 265
        },
        "id": "eF3GA0xgQGyy",
        "outputId": "26cc7a20-9f98-4dd1-b923-433c8bc96fff"
      },
      "execution_count": null,
      "outputs": [
        {
          "output_type": "display_data",
          "data": {
            "text/plain": [
              "<Figure size 432x288 with 1 Axes>"
            ],
            "image/png": "[encoded data removed]"
          },
          "metadata": {
            "needs_background": "light"
          }
        }
      ]
    },
    {
      "cell_type": "markdown",
      "source": [
        "## 2M2\n",
        "Now assume a prior for p that is equal to zero when p < 0.5 and is a positive constant when\n",
        "p ≥ 0.5. Again compute and plot the grid approximate posterior distribution for each of the sets of\n",
        "observations in the problem just above."
      ],
      "metadata": {
        "id": "gKNTU490RgxR"
      }
    },
    {
      "cell_type": "code",
      "source": [
        "def grid(n_land, n_total, p_grid, prior):\n",
        "\n",
        "  likelyhood = stats.binom.pmf(n_land, n_total, p_grid)\n",
        "  posterior_unstd = likelyhood*prior\n",
        "  posterior = posterior_unstd/posterior_unstd.sum()\n",
        "\n",
        "  return p_grid, posterior"
      ],
      "metadata": {
        "id": "m9wYGQjVQUCq"
      },
      "execution_count": null,
      "outputs": []
    },
    {
      "cell_type": "code",
      "source": [
        "n_grid = 200\n",
        "p_grid = np.linspace(0, 1, n_grid)\n",
        "prior = np.ones(n_grid)\n",
        "\n",
        "prior[p_grid<0.5] = 0\n",
        "\n",
        "plt.plot(*grid(0,3, p_grid, prior))\n",
        "plt.show()"
      ],
      "metadata": {
        "colab": {
          "base_uri": "https://localhost:8080/",
          "height": 265
        },
        "id": "_41DNjwkQeN0",
        "outputId": "84a42476-bf3b-4bb1-b5d6-ef2224375056"
      },
      "execution_count": null,
      "outputs": [
        {
          "output_type": "display_data",
          "data": {
            "text/plain": [
              "<Figure size 432x288 with 1 Axes>"
            ],
            "image/png": "[encoded data removed]"
          },
          "metadata": {
            "needs_background": "light"
          }
        }
      ]
    },
    {
      "cell_type": "code",
      "source": [
        "plt.plot(*grid(1,4, p_grid, prior))\n",
        "plt.show()"
      ],
      "metadata": {
        "colab": {
          "base_uri": "https://localhost:8080/",
          "height": 265
        },
        "id": "ivH_CsqCQiCw",
        "outputId": "e6a2efb4-97a4-4be9-8c56-58725345978d"
      },
      "execution_count": null,
      "outputs": [
        {
          "output_type": "display_data",
          "data": {
            "text/plain": [
              "<Figure size 432x288 with 1 Axes>"
            ],
            "image/png": "[encoded data removed]"
          },
          "metadata": {
            "needs_background": "light"
          }
        }
      ]
    },
    {
      "cell_type": "code",
      "source": [
        "plt.plot(*grid(2,7, p_grid, prior))\n",
        "plt.show()"
      ],
      "metadata": {
        "colab": {
          "base_uri": "https://localhost:8080/",
          "height": 265
        },
        "id": "I8LHPQ1YRQqr",
        "outputId": "593f41dd-769f-4a43-93b0-deb1f49595cc"
      },
      "execution_count": null,
      "outputs": [
        {
          "output_type": "display_data",
          "data": {
            "text/plain": [
              "<Figure size 432x288 with 1 Axes>"
            ],
            "image/png": "[encoded data removed]"
          },
          "metadata": {
            "needs_background": "light"
          }
        }
      ]
    },
    {
      "cell_type": "markdown",
      "source": [
        "## 2M3\n",
        "\n",
        "Suppose there are two globes, one for Earth and one for Mars. The Earth globe is 70% covered\n",
        "in water. The Mars globe is 100% land. Further suppose that one of these globes—you don’t know\n",
        "which—was tossed in the air and produced a “land” observation. Assume that each globe was equally\n",
        "likely to be tossed. Show that the posterior probability that the globe was the Earth, conditional on\n",
        "seeing “land” (Pr(Earth|land)), is 0.23."
      ],
      "metadata": {
        "id": "sU2aUKw_RVfm"
      }
    },
    {
      "cell_type": "code",
      "source": [
        "p_land_given_earth = 0.3\n",
        "p_land_given_mars = 1\n",
        "p_earth = 0.5\n",
        "p_land = p_earth*p_land_given_earth + (1-p_earth)*p_land_given_mars\n",
        "\n",
        "p_earth_given_land = p_land_given_earth * p_earth / p_land\n",
        "p_earth_given_land"
      ],
      "metadata": {
        "colab": {
          "base_uri": "https://localhost:8080/"
        },
        "id": "7ktWQSRURid0",
        "outputId": "42cc6bf3-fa0e-491e-ad82-8cde02013d80"
      },
      "execution_count": null,
      "outputs": [
        {
          "output_type": "execute_result",
          "data": {
            "text/plain": [
              "0.23076923076923075"
            ]
          },
          "metadata": {},
          "execution_count": 43
        }
      ]
    },
    {
      "cell_type": "markdown",
      "source": [
        "# 2M4\n",
        "Suppose you have a deck with only three cards. Each card has two sides, and each side is either\n",
        "black or white. One card has two black sides. The second card has one black and one white side. The\n",
        "third card has two white sides. Now suppose all three cards are placed in a bag and shuffled. Someone\n",
        "reaches into the bag and pulls out a card and places it flat on a table. A black side is shown facing up,\n",
        "but you don’t know the color of the side facing down. Show that the probability that the other side is\n",
        "also black is 2/3. Use the counting method (Section 2 of the chapter) to approach this problem. This\n",
        "means counting up the ways that each card could produce the observed data (a black side facing up\n",
        "on the table)\n",
        "\n",
        "This lends itself to writing more than code\n",
        "\n",
        "Options:\n",
        "* B B\n",
        "* B W\n",
        "* W W\n",
        "* B B\n",
        "* W B\n",
        "* W W\n",
        "\n",
        "First pick is 1/2 half - but given B is first we are left with choices\n",
        "* B B\n",
        "* B B \n",
        "* B W\n",
        "\n",
        "So B B prob is 2/3 "
      ],
      "metadata": {
        "id": "dWAqZM4pT8jA"
      }
    },
    {
      "cell_type": "markdown",
      "source": [
        "## 2M5\n",
        "Now suppose there are four cards: B/B, B/W, W/W, and another B/B. Again suppose a card is\n",
        "drawn from the bag and a black side appears face up. Again calculate the probability that the other\n",
        "side is black.\n",
        "\n",
        "This equates to adding 2 more B B options to the latter half of 2M4, so we have p=4/5 "
      ],
      "metadata": {
        "id": "qr7bURT7UaeR"
      }
    },
    {
      "cell_type": "markdown",
      "source": [
        "## 2M6\n",
        "Imagine that black ink is heavy, and so cards with black sides are heavier than cards with white\n",
        "sides. As a result, it’s less likely that a card with black sides is pulled from the bag. So again assume\n",
        "there are three cards: B/B, B/W, and W/W. After experimenting a number of times, you conclude that\n",
        "for every way to pull the B/B card from the bag, there are 2 ways to pull the B/W card and 3 ways to\n",
        "pull the W/W card. Again suppose that a card is pulled and a black side appears face up. Show that\n",
        "the probability the other side is black is now 0.5. Use the counting method, as before.\n",
        "\n",
        "3 cards with different chances of being picked\n",
        "* c_BB = 1\n",
        "* c_BW = 2\n",
        "* c_WW = 3\n",
        "\n",
        "Similar case as before just with added weights:\n",
        "\n",
        "*  B B, w=1\n",
        "*   B B, w=1\n",
        "*   B W, w=2\n",
        "\n",
        "SO p = 2/4 = 1/2\n",
        "\n"
      ],
      "metadata": {
        "id": "qM9qJHAFUlb2"
      }
    },
    {
      "cell_type": "markdown",
      "source": [
        "## 2M7\n",
        "\n",
        "Assume again the original card problem, with a single card showing a black side face up. Before\n",
        "looking at the other side, we draw another card from the bag and lay it face up on the table. The face\n",
        "that is shown on the new card is white. Show that the probability that the first card, the one showing\n",
        "a black side, has black on its other side is now 0.75. Use the counting method, if you can. Hint: Treat\n",
        "this like the sequence of globe tosses, counting all the ways to see each observation, for each possible\n",
        "first card.\n",
        "\n",
        "Summary:\n",
        "* 3 cards\n",
        "* First face black\n",
        "* 2nd card one face is white\n",
        "\n",
        "Options:\n",
        "\n",
        "* BB WW\n",
        "* BB WW\n",
        "* BB WB\n",
        "* BB WW\n",
        "* BB WW\n",
        "* BB WB\n",
        "* BW WW\n",
        "* BW WW\n",
        "\n",
        "pBB = 6/8 = 3/4\n"
      ],
      "metadata": {
        "id": "q5K7CSVPVPs3"
      }
    },
    {
      "cell_type": "markdown",
      "source": [
        "# 2H1\n",
        "Suppose there are two species of panda bear. Both are equally common in the wild and live\n",
        "in the same places. They look exactly alike and eat the same food, and there is yet no genetic assay\n",
        "capable of telling them apart. They differ however in their family sizes. Species A gives birth to twins\n",
        "10% of the time, otherwise birthing a single infant. Species B births twins 20% of the time, otherwise\n",
        "birthing singleton infants. Assume these numbers are known with certainty, from many years of field\n",
        "research.\n",
        "\n",
        "Now suppose you are managing a captive panda breeding program. You have a new female panda\n",
        "of unknown species, and she has just given birth to twins. What is the probability that her next birth\n",
        "will also be twins?"
      ],
      "metadata": {
        "id": "Lwya6yJiWDcL"
      }
    },
    {
      "cell_type": "code",
      "source": [
        "psA = 0.5\n",
        "psB = 1 - psA\n",
        "psAtwins = 0.1\n",
        "psBtwins = 0.2\n",
        "\n",
        "ptwins = psA*psAtwins + psB*psBtwins\n",
        "\n",
        "psA_given_twins = psAtwins * psA / ptwins\n",
        "psB_given_twins = psBtwins * psB / ptwins\n",
        "\n",
        "p_twins_given_twins = psA_given_twins*psAtwins + psB_given_twins*psBtwins\n",
        "p_twins_given_twins"
      ],
      "metadata": {
        "colab": {
          "base_uri": "https://localhost:8080/"
        },
        "id": "EZZGPEoMWOqt",
        "outputId": "694493cd-e04f-4631-c6f6-114207ebded3"
      },
      "execution_count": null,
      "outputs": [
        {
          "output_type": "execute_result",
          "data": {
            "text/plain": [
              "0.16666666666666666"
            ]
          },
          "metadata": {},
          "execution_count": 47
        }
      ]
    },
    {
      "cell_type": "code",
      "source": [
        "## Doing this more in line with the book\n",
        "likelyhood_twins = np.array([0.1, 0.2])\n",
        "prior = np.ones(2)\n",
        "\n",
        "posterior_unstd = likelyhood_twins*prior\n",
        "posterior = posterior_unstd/posterior_unstd.sum()\n",
        "\n",
        "(posterior*likelyhood_twins).sum()"
      ],
      "metadata": {
        "colab": {
          "base_uri": "https://localhost:8080/"
        },
        "id": "VbOZvHUOZhdY",
        "outputId": "b3165c19-6b91-4998-d1ba-821edf420129"
      },
      "execution_count": null,
      "outputs": [
        {
          "output_type": "execute_result",
          "data": {
            "text/plain": [
              "0.16666666666666666"
            ]
          },
          "metadata": {},
          "execution_count": 55
        }
      ]
    },
    {
      "cell_type": "markdown",
      "source": [
        "## 2H2\n",
        "Recall all the facts from the problem above. Now compute the probability that the panda we\n",
        "have is from species A, assuming we have observed only the first birth and that it was twins."
      ],
      "metadata": {
        "id": "e80jSVjAZer4"
      }
    },
    {
      "cell_type": "code",
      "source": [
        "posterior[0]"
      ],
      "metadata": {
        "colab": {
          "base_uri": "https://localhost:8080/"
        },
        "id": "Cy6D1bzAaBQ-",
        "outputId": "2da16ede-8d5e-4b1e-92ee-b5784d47ef0a"
      },
      "execution_count": null,
      "outputs": [
        {
          "output_type": "execute_result",
          "data": {
            "text/plain": [
              "0.3333333333333333"
            ]
          },
          "metadata": {},
          "execution_count": 56
        }
      ]
    },
    {
      "cell_type": "markdown",
      "source": [
        "## 2H3\n",
        "Continuing on from the previous problem, suppose the same panda mother has a second birth\n",
        "and that it is not twins, but a singleton infant. Compute the posterior probability that this panda is\n",
        "species A."
      ],
      "metadata": {
        "id": "5D_klzEoZWOr"
      }
    },
    {
      "cell_type": "code",
      "source": [
        "\n",
        "likelyhood_twin_singleton = likelyhood_twins*(1-likelyhood_twins)\n",
        "\n",
        "posterior_unstd = likelyhood_twin_singleton*prior\n",
        "posterior = posterior_unstd/posterior_unstd.sum()\n",
        "\n",
        "posterior[0]"
      ],
      "metadata": {
        "colab": {
          "base_uri": "https://localhost:8080/"
        },
        "id": "_sC6Hi0aaIQu",
        "outputId": "56611948-367a-440a-d162-003658344f4f"
      },
      "execution_count": null,
      "outputs": [
        {
          "output_type": "execute_result",
          "data": {
            "text/plain": [
              "0.36"
            ]
          },
          "metadata": {},
          "execution_count": 57
        }
      ]
    },
    {
      "cell_type": "markdown",
      "source": [
        "## 2H4\n",
        "A common boast of Bayesian statisticians is that Bayesian inference makes it easy to use all of\n",
        "the data, even if the data are of different types.\n",
        "So suppose now that a veterinarian comes along who has a new genetic test that she claims can\n",
        "identify the species of our mother panda. But the test, like all tests, is imperfect. This is the informa-\n",
        "tion you have about the test:\n",
        "* The probability it correctly identifies a species A panda is 0.8.\n",
        "* The probability it correctly identifies a species B panda is 0.65.\n",
        "\n",
        "The vet administers the test to your panda and tells you that the test is positive for species A. First\n",
        "ignore your previous information from the births and compute the posterior probability that your\n",
        "panda is species A. Then redo your calculation, now using the birth data as well.\n",
        "given test is A - what is panda"
      ],
      "metadata": {
        "id": "AXp7MzydbmrJ"
      }
    },
    {
      "cell_type": "code",
      "source": [
        "likelyhood_test = np.array([0.8, 1-0.65])\n",
        "prior = np.ones(2)\n",
        "\n",
        "posterior_unstd = likelyhood_test*prior\n",
        "posterior = posterior_unstd/posterior_unstd.sum()\n",
        "\n",
        "posterior[0]"
      ],
      "metadata": {
        "colab": {
          "base_uri": "https://localhost:8080/"
        },
        "id": "3VmJvCp9bsdJ",
        "outputId": "762f95f7-f004-4c3e-e712-fbe90302d66c"
      },
      "execution_count": null,
      "outputs": [
        {
          "output_type": "execute_result",
          "data": {
            "text/plain": [
              "0.6956521739130436"
            ]
          },
          "metadata": {},
          "execution_count": 71
        }
      ]
    },
    {
      "cell_type": "code",
      "source": [
        "posterior_unstd = likelyhood_test*prior*likelyhood_twin_singleton\n",
        "posterior = posterior_unstd/posterior_unstd.sum()\n",
        "\n",
        "posterior[0]"
      ],
      "metadata": {
        "colab": {
          "base_uri": "https://localhost:8080/"
        },
        "id": "HqLolGK4coII",
        "outputId": "53933294-08ac-4743-84da-c94c29c544bf"
      },
      "execution_count": null,
      "outputs": [
        {
          "output_type": "execute_result",
          "data": {
            "text/plain": [
              "0.5625"
            ]
          },
          "metadata": {},
          "execution_count": 72
        }
      ]
    }
  ]
}